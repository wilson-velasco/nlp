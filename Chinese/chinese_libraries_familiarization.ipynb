{
 "cells": [
  {
   "cell_type": "code",
   "execution_count": 5,
   "id": "86731261",
   "metadata": {},
   "outputs": [],
   "source": [
    "#Chinese library imports\n",
    "\n",
    "#pyHan\n",
    "#from pyhanlp import HanLP \n",
    "\n",
    "#jieba\n",
    "import jieba\n",
    "\n",
    "#spaCy \n",
    "import spacy\n",
    "nlp = spacy.load(\"zh_core_web_sm\")"
   ]
  },
  {
   "cell_type": "code",
   "execution_count": 6,
   "id": "089de2d3",
   "metadata": {},
   "outputs": [],
   "source": [
    "text = \"我喜欢学习新的知识，特别是有关科学和技术的内容。每天早上，我都会花一些时间阅读科学类的文章，了解最新的研究进展和发现。\\\n",
    "我也喜欢参加科技展览和讲座，与其他对科学感兴趣的人交流想法。学习科学不仅让我对世界更好奇，也让我感受到知识的无限魅力。\""
   ]
  },
  {
   "cell_type": "code",
   "execution_count": 17,
   "id": "59c6181a",
   "metadata": {},
   "outputs": [
    {
     "name": "stdout",
     "output_type": "stream",
     "text": [
      "我\n",
      "喜欢\n",
      "学习\n",
      "新\n",
      "的\n",
      "知识\n",
      "，\n"
     ]
    }
   ],
   "source": [
    "#Tokenizing using jieba\n",
    "\n",
    "import jieba\n",
    "for token in jieba.cut(text[:10]):\n",
    "    print(token)\n",
    "\n",
    "#Text is being cut based on character count"
   ]
  },
  {
   "cell_type": "code",
   "execution_count": 16,
   "id": "b2709a86",
   "metadata": {},
   "outputs": [
    {
     "name": "stdout",
     "output_type": "stream",
     "text": [
      "我\n",
      "喜欢\n",
      "学习\n",
      "新\n",
      "的\n",
      "知识\n",
      "，\n",
      "特别是\n",
      "有关\n",
      "科学\n"
     ]
    }
   ],
   "source": [
    "#Tokenizing using spaCy\n",
    "\n",
    "doc = nlp(text)\n",
    "for token in doc[:10]:\n",
    "    print(token.text)\n",
    "    \n",
    "#Text is cut based on word"
   ]
  },
  {
   "cell_type": "markdown",
   "id": "70bf5594",
   "metadata": {},
   "source": [
    "# Playing with \"To Live\""
   ]
  },
  {
   "cell_type": "code",
   "execution_count": 1,
   "id": "7ab55694",
   "metadata": {},
   "outputs": [],
   "source": [
    "from requests import get\n",
    "from bs4 import BeautifulSoup\n",
    "import os"
   ]
  },
  {
   "cell_type": "code",
   "execution_count": 2,
   "id": "669c4f07",
   "metadata": {},
   "outputs": [],
   "source": [
    "urls = ['https://www.99csw.com/book/2428/72909.htm',\n",
    "        'https://www.99csw.com/book/2428/72910.htm',\n",
    "        'https://www.99csw.com/book/2428/72911.htm',\n",
    "        'https://www.99csw.com/book/2428/72912.htm',\n",
    "        'https://www.99csw.com/book/2428/72913.htm',\n",
    "        'https://www.99csw.com/book/2428/72914.htm',\n",
    "        'https://www.99csw.com/book/2428/72915.htm',\n",
    "        'https://www.99csw.com/book/2428/72916.htm',\n",
    "        'https://www.99csw.com/book/2428/72917.htm',\n",
    "        'https://www.99csw.com/book/2428/72918.htm',\n",
    "        'https://www.99csw.com/book/2428/72919.htm']"
   ]
  },
  {
   "cell_type": "code",
   "execution_count": 6,
   "id": "1cff208b",
   "metadata": {},
   "outputs": [],
   "source": [
    "import pandas as pd\n",
    "import numpy as np"
   ]
  },
  {
   "cell_type": "code",
   "execution_count": 17,
   "id": "0d6d04ba",
   "metadata": {},
   "outputs": [
    {
     "data": {
      "text/html": [
       "<div>\n",
       "<style scoped>\n",
       "    .dataframe tbody tr th:only-of-type {\n",
       "        vertical-align: middle;\n",
       "    }\n",
       "\n",
       "    .dataframe tbody tr th {\n",
       "        vertical-align: top;\n",
       "    }\n",
       "\n",
       "    .dataframe thead th {\n",
       "        text-align: right;\n",
       "    }\n",
       "</style>\n",
       "<table border=\"1\" class=\"dataframe\">\n",
       "  <thead>\n",
       "    <tr style=\"text-align: right;\">\n",
       "      <th></th>\n",
       "      <th>chapter</th>\n",
       "      <th>text</th>\n",
       "    </tr>\n",
       "  </thead>\n",
       "  <tbody>\n",
       "    <tr>\n",
       "      <th>0</th>\n",
       "      <td>前言</td>\n",
       "      <td>前言前面已经说过，我和现实关系紧张，说得严重一些，我一直是以敌对的态度看待现实。随着时间的推...</td>\n",
       "    </tr>\n",
       "    <tr>\n",
       "      <th>1</th>\n",
       "      <td>第一章</td>\n",
       "      <td>第一章那天可真是热闹，城里街道两旁站满了人，手里拿着小彩旗，商店都斜着插出来青天白日旗，我丈...</td>\n",
       "    </tr>\n",
       "    <tr>\n",
       "      <th>2</th>\n",
       "      <td>第二章</td>\n",
       "      <td>第二章我爹动了动眼皮，看着佃户嘶哑地问：“你先前看到过我掉下来没有？”爹的声音里咝咝的，他顿...</td>\n",
       "    </tr>\n",
       "    <tr>\n",
       "      <th>3</th>\n",
       "      <td>第三章</td>\n",
       "      <td>第三章我想想再不能像从前那样过日子了，我得养活我娘和凤霞。我就和娘商量着到城里亲友那里去借点...</td>\n",
       "    </tr>\n",
       "    <tr>\n",
       "      <th>4</th>\n",
       "      <td>第四章</td>\n",
       "      <td>第四章福贵牵着牛到了水田里，给牛套上犁的工夫，他对我说：吃午饭时，桌子旁没有了凤霞，有庆吃了...</td>\n",
       "    </tr>\n",
       "    <tr>\n",
       "      <th>5</th>\n",
       "      <td>第五章</td>\n",
       "      <td>第五章“这锅砸了往后吃什么？”我让家珍和凤霞早早地去食堂守着，好早些把饭菜打回来，吃完了去接...</td>\n",
       "    </tr>\n",
       "    <tr>\n",
       "      <th>6</th>\n",
       "      <td>第六章</td>\n",
       "      <td>第六章“你答应不卖给宰羊的。”“爹，爹。”“有庆，你就去喝几口水填填肚子吧。”说完我低头看看...</td>\n",
       "    </tr>\n",
       "    <tr>\n",
       "      <th>7</th>\n",
       "      <td>第七章</td>\n",
       "      <td>第七章“也是，凤霞也该出嫁了，只是好人家难找。”那两个女人嘻嘻一笑，我就看到福贵一脸的得意，...</td>\n",
       "    </tr>\n",
       "    <tr>\n",
       "      <th>8</th>\n",
       "      <td>第八章</td>\n",
       "      <td>第八章他就进屋拿了把菜刀，下到地里割了几棵新鲜的菜，又拿进屋去。不一会，他在里面切猪头了，我...</td>\n",
       "    </tr>\n",
       "    <tr>\n",
       "      <th>9</th>\n",
       "      <td>第九章</td>\n",
       "      <td>第九章没了凤霞，二喜是再也没有回过魂来，他本来说话不多，凤霞一死，他话就更少了，人家说什么，...</td>\n",
       "    </tr>\n",
       "    <tr>\n",
       "      <th>10</th>\n",
       "      <td>第十章</td>\n",
       "      <td>第十章苦根便摘起了棉花，摘了一阵他跑到田埂上躺下，我叫他，叫他别再躺着，苦根说：“你说什么？...</td>\n",
       "    </tr>\n",
       "  </tbody>\n",
       "</table>\n",
       "</div>"
      ],
      "text/plain": [
       "   chapter                                               text\n",
       "0       前言  前言前面已经说过，我和现实关系紧张，说得严重一些，我一直是以敌对的态度看待现实。随着时间的推...\n",
       "1      第一章  第一章那天可真是热闹，城里街道两旁站满了人，手里拿着小彩旗，商店都斜着插出来青天白日旗，我丈...\n",
       "2      第二章  第二章我爹动了动眼皮，看着佃户嘶哑地问：“你先前看到过我掉下来没有？”爹的声音里咝咝的，他顿...\n",
       "3      第三章  第三章我想想再不能像从前那样过日子了，我得养活我娘和凤霞。我就和娘商量着到城里亲友那里去借点...\n",
       "4      第四章  第四章福贵牵着牛到了水田里，给牛套上犁的工夫，他对我说：吃午饭时，桌子旁没有了凤霞，有庆吃了...\n",
       "5      第五章  第五章“这锅砸了往后吃什么？”我让家珍和凤霞早早地去食堂守着，好早些把饭菜打回来，吃完了去接...\n",
       "6      第六章  第六章“你答应不卖给宰羊的。”“爹，爹。”“有庆，你就去喝几口水填填肚子吧。”说完我低头看看...\n",
       "7      第七章  第七章“也是，凤霞也该出嫁了，只是好人家难找。”那两个女人嘻嘻一笑，我就看到福贵一脸的得意，...\n",
       "8      第八章  第八章他就进屋拿了把菜刀，下到地里割了几棵新鲜的菜，又拿进屋去。不一会，他在里面切猪头了，我...\n",
       "9      第九章  第九章没了凤霞，二喜是再也没有回过魂来，他本来说话不多，凤霞一死，他话就更少了，人家说什么，...\n",
       "10     第十章  第十章苦根便摘起了棉花，摘了一阵他跑到田埂上躺下，我叫他，叫他别再躺着，苦根说：“你说什么？..."
      ]
     },
     "execution_count": 17,
     "metadata": {},
     "output_type": "execute_result"
    }
   ],
   "source": [
    "huozhe = pd.DataFrame({})\n",
    "\n",
    "for url in urls:\n",
    "    response = get(url)\n",
    "    soup = BeautifulSoup(response.content, 'html.parser')\n",
    "    text = soup.find('div', id='content').text\n",
    "    chapter = soup.find('h2', class_='h2').text\n",
    "    chapter_content = pd.DataFrame({'chapter': [chapter],\n",
    "             'text': [text]})\n",
    "    huozhe = pd.concat([huozhe, chapter_content])\n",
    "\n",
    "huozhe.reset_index(drop=True)"
   ]
  },
  {
   "cell_type": "code",
   "execution_count": 18,
   "id": "e82791d6",
   "metadata": {},
   "outputs": [],
   "source": [
    "huozhe.to_csv('huozhe.csv')"
   ]
  },
  {
   "cell_type": "code",
   "execution_count": null,
   "id": "734e80f8",
   "metadata": {},
   "outputs": [],
   "source": []
  }
 ],
 "metadata": {
  "kernelspec": {
   "display_name": "Python 3 (ipykernel)",
   "language": "python",
   "name": "python3"
  },
  "language_info": {
   "codemirror_mode": {
    "name": "ipython",
    "version": 3
   },
   "file_extension": ".py",
   "mimetype": "text/x-python",
   "name": "python",
   "nbconvert_exporter": "python",
   "pygments_lexer": "ipython3",
   "version": "3.9.13"
  }
 },
 "nbformat": 4,
 "nbformat_minor": 5
}
